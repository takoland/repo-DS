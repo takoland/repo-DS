{
 "cells": [
  {
   "cell_type": "markdown",
   "metadata": {},
   "source": [
    "# Tokenizing"
   ]
  },
  {
   "cell_type": "code",
   "execution_count": 7,
   "metadata": {},
   "outputs": [],
   "source": [
    "from pyspark.sql import SparkSession\n",
    "from pyspark.ml.feature import RegexTokenizer, Tokenizer\n",
    "from pyspark.sql.functions import col, udf\n",
    "from pyspark.sql.types import IntegerType"
   ]
  },
  {
   "cell_type": "code",
   "execution_count": 8,
   "metadata": {},
   "outputs": [],
   "source": [
    "# Start Spark session\n",
    "spark = SparkSession.builder.appName('tokenizer').getOrCreate()"
   ]
  },
  {
   "cell_type": "code",
   "execution_count": 9,
   "metadata": {},
   "outputs": [],
   "source": [
    "# Read in csv\n",
    "dataframe = spark.read.format(\"csv\").option(\"header\", \"true\").load(\"data.csv\")"
   ]
  },
  {
   "cell_type": "code",
   "execution_count": 10,
   "metadata": {},
   "outputs": [
    {
     "name": "stdout",
     "output_type": "stream",
     "text": [
      "+--------------------+\n",
      "|                Poem|\n",
      "+--------------------+\n",
      "|This Autumn midnight|\n",
      "|Orion’s at my window|\n",
      "|shouting for his ...|\n",
      "+--------------------+\n",
      "\n"
     ]
    }
   ],
   "source": [
    "# Show dataframe\n",
    "dataframe.show()"
   ]
  },
  {
   "cell_type": "code",
   "execution_count": 11,
   "metadata": {},
   "outputs": [],
   "source": [
    "# Tokenize dataframe\n",
    "tokened = Tokenizer(inputCol=\"Poem\", outputCol=\"words\")"
   ]
  },
  {
   "cell_type": "code",
   "execution_count": 13,
   "metadata": {},
   "outputs": [
    {
     "name": "stdout",
     "output_type": "stream",
     "text": [
      "+---------------------+--------------------------+\n",
      "|Poem                 |words                     |\n",
      "+---------------------+--------------------------+\n",
      "|This Autumn midnight |[this, autumn, midnight]  |\n",
      "|Orion’s at my window |[orion’s, at, my, window] |\n",
      "|shouting for his dog.|[shouting, for, his, dog.]|\n",
      "+---------------------+--------------------------+\n",
      "\n"
     ]
    }
   ],
   "source": [
    "# Transform dataframe\n",
    "tokenized = tokened.transform(dataframe)\n",
    "tokenized.show(truncate=False)"
   ]
  },
  {
   "cell_type": "markdown",
   "metadata": {},
   "source": [
    "# "
   ]
  },
  {
   "cell_type": "code",
   "execution_count": 14,
   "metadata": {},
   "outputs": [],
   "source": [
    "# Create a Function to count vowels\n",
    "def vowel_counter(words):\n",
    "    vowel_count = 0\n",
    "\n",
    "    for word in words:\n",
    "        for vowel in word:\n",
    "            if vowel in ('a', 'e', 'i', 'o', 'u'):\n",
    "                vowel_count += 1\n",
    "\n",
    "    return vowel_count"
   ]
  },
  {
   "cell_type": "code",
   "execution_count": 15,
   "metadata": {},
   "outputs": [
    {
     "data": {
      "text/plain": [
       "<function __main__.vowel_counter(words)>"
      ]
     },
     "execution_count": 15,
     "metadata": {},
     "output_type": "execute_result"
    }
   ],
   "source": [
    "# Store a user defined function\n",
    "count_vowels = udf(vowel_counter, IntegerType())\n",
    "count_vowels"
   ]
  },
  {
   "cell_type": "code",
   "execution_count": 16,
   "metadata": {},
   "outputs": [
    {
     "name": "stdout",
     "output_type": "stream",
     "text": [
      "+---------------------+--------------------------+------+\n",
      "|Poem                 |words                     |vowels|\n",
      "+---------------------+--------------------------+------+\n",
      "|This Autumn midnight |[this, autumn, midnight]  |6     |\n",
      "|Orion’s at my window |[orion’s, at, my, window] |6     |\n",
      "|shouting for his dog.|[shouting, for, his, dog.]|6     |\n",
      "+---------------------+--------------------------+------+\n",
      "\n"
     ]
    }
   ],
   "source": [
    "# Create new data frame with the udf\n",
    "tokenized.select(\"Poem\", \"words\")\\\n",
    "    .withColumn(\"vowels\", count_vowels(col(\"words\"))).show(truncate=False)"
   ]
  },
  {
   "cell_type": "code",
   "execution_count": 17,
   "metadata": {},
   "outputs": [],
   "source": [
    "# Stop Spark\n",
    "spark.stop()"
   ]
  },
  {
   "cell_type": "code",
   "execution_count": null,
   "metadata": {},
   "outputs": [],
   "source": []
  }
 ],
 "metadata": {
  "kernelspec": {
   "display_name": "Python 3",
   "language": "python",
   "name": "python3"
  },
  "language_info": {
   "codemirror_mode": {
    "name": "ipython",
    "version": 3
   },
   "file_extension": ".py",
   "mimetype": "text/x-python",
   "name": "python",
   "nbconvert_exporter": "python",
   "pygments_lexer": "ipython3",
   "version": "3.6.4"
  },
  "varInspector": {
   "cols": {
    "lenName": 16,
    "lenType": 16,
    "lenVar": 40
   },
   "kernels_config": {
    "python": {
     "delete_cmd_postfix": "",
     "delete_cmd_prefix": "del ",
     "library": "var_list.py",
     "varRefreshCmd": "print(var_dic_list())"
    },
    "r": {
     "delete_cmd_postfix": ") ",
     "delete_cmd_prefix": "rm(",
     "library": "var_list.r",
     "varRefreshCmd": "cat(var_dic_list()) "
    }
   },
   "types_to_exclude": [
    "module",
    "function",
    "builtin_function_or_method",
    "instance",
    "_Feature"
   ],
   "window_display": false
  }
 },
 "nbformat": 4,
 "nbformat_minor": 2
}
